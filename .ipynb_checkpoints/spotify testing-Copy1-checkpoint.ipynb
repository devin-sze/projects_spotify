{
 "cells": [
  {
   "cell_type": "code",
   "execution_count": 38,
   "metadata": {},
   "outputs": [],
   "source": [
    "import requests\n",
    "import numpy as np\n",
    "import pandas as pd\n",
    "import matplotlib.pyplot as plt\n",
    "import seaborn as sns\n",
    "from datetime import datetime\n",
    "from datetime import date\n",
    "import ipywidgets as widgets #https://towardsdatascience.com/bring-your-jupyter-notebook-to-life-with-interactive-widgets-bc12e03f0916"
   ]
  },
  {
   "cell_type": "markdown",
   "metadata": {},
   "source": [
    "### Initialize\n",
    "1. Get a temporary OAuth token from Spotify at this [link](\"https://developer.spotify.com/console/get-playlist/?playlist_id=37i9dQZEVXbLiRSasKsNU9&market=&fields=&additional_types=\"), then copy it into the `TOKEN` variable below. Make sure the token is surrounded by quotes (\"\")"
   ]
  },
  {
   "cell_type": "code",
   "execution_count": 39,
   "metadata": {},
   "outputs": [],
   "source": [
    "TOKEN = \"BQA5HS1uDbFQGCSvLuyXPeiJ7ndSRaeHQXmtMV4YbRYxsUFpuQbcuRevKf5sCuIsoJZ1FVPpF-YPVxhUVcNRJSrz3n1NM0GKMVtXSkgs-Ex5qLVlgY9_LvGjkNLd4XhkgVDtgKloAPt0HwL_UyrEFqYCYGsEKg9nxD3hcUTb\""
   ]
  },
  {
   "cell_type": "markdown",
   "metadata": {},
   "source": [
    "### Album\n",
    "2. Create the necessary helper functions (`extract_album`, `extract_album_len`, `extract_album_artists`) that will extract specific characteristics from a the album each track is a part of.\n",
    "3. Create `df_album` so that all the specified album attributes (defined within the function) can be extracted."
   ]
  },
  {
   "cell_type": "code",
   "execution_count": 2,
   "metadata": {},
   "outputs": [],
   "source": [
    "def extract_album(json, key):\n",
    "    return [json[i].get(\"track\").get(\"album\").get(key) for i in range(len(json))]\n",
    "def extract_album_len(json, key):\n",
    "    return [len(json[i].get(\"track\").get(\"album\").get(key))for i in range(len(json))]\n",
    "def extract_album_artists(json, key=\"artists\"):\n",
    "    artists = []\n",
    "\n",
    "    for i in range(len(json)):\n",
    "        x = json[i].get(\"track\").get(\"album\").get(\"artists\")\n",
    "        art = [elem.get(\"name\") for elem in x]\n",
    "        artists += [art]\n",
    "    return artists\n",
    "\n",
    "def df_album(df, tracks):\n",
    "    basic_album_keys = [\"id\", \"name\", \"release_date\", \"total_tracks\"]\n",
    "    for key in basic_album_keys:\n",
    "        df[\"album, \" + key] = extract_album(tracks, key)\n",
    "\n",
    "    len_keys = [\"artists\", \"available_markets\"]\n",
    "    for key in len_keys:\n",
    "        df[\"album, len \" + key] = extract_album_len(tracks, key)\n",
    "    df[\"album, artists\"] = extract_album_artists(tracks)\n",
    "    \n",
    "    return df"
   ]
  },
  {
   "cell_type": "markdown",
   "metadata": {},
   "source": [
    "### Track\n",
    "4. Create the necessary helper functions (`extract_track`, `extract_track_artists`) to extract specific characteristics about the track itself.\n",
    "5. Create `df_tracks` that will call the above defined helper functions so that the relevant track information can be extracted."
   ]
  },
  {
   "cell_type": "code",
   "execution_count": 3,
   "metadata": {
    "scrolled": false
   },
   "outputs": [],
   "source": [
    "def extract_track(json, key):\n",
    "    return [json[i].get(\"track\").get(key) for i in range(len(json))]\n",
    "def extract_track_artists(json, key=\"artists\"):\n",
    "    artists = []\n",
    "\n",
    "    for i in range(len(json)):\n",
    "        x = json[i].get(\"track\").get(\"artists\")\n",
    "        art = [elem.get(\"name\") for elem in x]\n",
    "        artists += [art]\n",
    "    return artists\n",
    "\n",
    "def df_tracks(df, tracks):\n",
    "    basic_track_keys = [\"name\", \"popularity\", \"duration_ms\", \"explicit\"]\n",
    "    for key in basic_track_keys:\n",
    "        df[\"track, \" + key] = extract_track(tracks, key)\n",
    "\n",
    "    df[\"track, artists\"] = extract_track_artists(tracks)\n",
    "    return df\n",
    "#df = df_tracks(df, top_tracks)"
   ]
  },
  {
   "cell_type": "markdown",
   "metadata": {},
   "source": [
    "### Post-Processing\n",
    "6. Create `date_process` to reformat the release_date into datetime (and not simply a string).\n",
    "7. Create `date_today_diff`, the positive difference between today's date and the album release date."
   ]
  },
  {
   "cell_type": "code",
   "execution_count": 4,
   "metadata": {},
   "outputs": [],
   "source": [
    "def date_process(df):\n",
    "    dates = [datetime.strptime(d, '%Y-%m-%d') for d in df[\"album, release_date\"]]\n",
    "    dates = pd.Series(dates)\n",
    "    dates = dates.dt.date\n",
    "\n",
    "    df[\"album, release_date, datetime\"] = dates\n",
    "    return df\n",
    "\n",
    "def date_today_diff(df):\n",
    "    today = date.today()\n",
    "    diff = [(today-df[\"album, release_date, datetime\"][i]).days for i in range(len(df))]\n",
    "    df[\"Release/Today Day difference\"] = diff\n",
    "    return df\n",
    "\n",
    "#df = date_process(df)\n",
    "#df = date_today_diff(df)"
   ]
  },
  {
   "cell_type": "markdown",
   "metadata": {},
   "source": [
    "### Visualization\n",
    "8. Create the following functions (`hist`, `cat`, `dist`, `reg`, `pie`, `explicit`) to visualize the data"
   ]
  },
  {
   "cell_type": "code",
   "execution_count": 32,
   "metadata": {},
   "outputs": [],
   "source": [
    "def hist(df, bins=8):\n",
    "    df[[\"Release/Today Day difference\"]].plot.hist(bins=bins);\n",
    "    plt.title(\"The Difference between Release Date and Today\")\n",
    "    plt.xlabel(\"Days\")\n",
    "    plt.ylabel(\"Count\")\n",
    "    plt.show()\n",
    "def cat(df, jitter=True):\n",
    "    sns.catplot(data=df,\n",
    "        x=\"album, len artists\",\n",
    "        y=\"track, popularity\",\n",
    "        jitter=jitter);\n",
    "    plt.title(\"Correlation between Album Artist Count and Track Popularity (Jittered)\")\n",
    "    plt.xlabel(\"Album Artist Count\")\n",
    "    plt.ylabel(\"Track Popularity\")\n",
    "    plt.show()\n",
    "def dist(df):\n",
    "    sns.distplot(a=df[\"track, popularity\"], hist=True);\n",
    "    plt.axvline(np.mean(df[\"track, popularity\"]),\n",
    "                linestyle='solid',\n",
    "                linewidth=1,\n",
    "                color=\"green\",\n",
    "                label=\"mean\")\n",
    "    plt.axvline(np.median(df[\"track, popularity\"]),\n",
    "                linestyle='solid',\n",
    "                linewidth=1,\n",
    "                color=\"red\",\n",
    "                label=\"median\")\n",
    "    plt.title(\"Distribution of Track Popularities\")\n",
    "    plt.xlabel(\"Track Popularity\")\n",
    "    plt.ylabel(\"Frequency\")\n",
    "    plt.legend()\n",
    "    plt.show()\n",
    "def reg(df, jitter=0.2):\n",
    "    sns.regplot(data=df,\n",
    "               x=\"album, len available_markets\",\n",
    "               y=\"track, popularity\",\n",
    "               ci=None,\n",
    "               x_jitter=jitter,\n",
    "               scatter_kws={'alpha':0.3});\n",
    "    plt.title(\"Correlation between Album Market Availibility and Track Popularity (Jittered)\")\n",
    "    plt.xlabel(\"Number of Countries Album is Availible In\")\n",
    "    plt.ylabel(\"Track Popularity\")\n",
    "    plt.show();\n",
    "def pie(df):\n",
    "    album_counts = df[\"album, name\"].value_counts()\n",
    "\n",
    "    #determine threshold\n",
    "    threshold = 0\n",
    "    if max(album_counts) > np.median(album_counts):\n",
    "        threshold = np.median(album_counts) + 1\n",
    "    elif min(album_counts) < np.median(album_counts):\n",
    "        threshold = np.median(album_counts) - 1\n",
    "    else:\n",
    "        threshold = np.median(album_counts)\n",
    "\n",
    "    #seperate into those that fail/meet threshold\n",
    "    less_threshold = album_counts < threshold\n",
    "    meet_threshold = album_counts >= threshold\n",
    "    sum(less_threshold)\n",
    "\n",
    "    #process the data\n",
    "    OTHER_ = pd.Series([sum(less_threshold)], index=[\"OTHER\"])\n",
    "\n",
    "    top_albums = album_counts[meet_threshold].append(OTHER_)\n",
    "    top_albums_df = pd.DataFrame(top_albums)\n",
    "    top_albums_df = top_albums_df.rename(columns={0:\"album, name\"})\n",
    "\n",
    "    #determine exploding array\n",
    "    explode = []\n",
    "    for i in range(len(top_albums_df)):\n",
    "        explode.append(top_albums_df.iloc[i][\"album, name\"] == max(album_counts))\n",
    "    explode = pd.Series(explode)/7\n",
    "\n",
    "    #plot the data\n",
    "    plt.figure(figsize=(9, 7), dpi=80)\n",
    "    plt.pie(top_albums_df[\"album, name\"],\n",
    "            labels=top_albums_df.index,\n",
    "            autopct='%1.1f%%',\n",
    "            counterclock=False,\n",
    "            startangle=90,\n",
    "            pctdistance=0.85,\n",
    "            explode=explode);\n",
    "    plt.title(\"Album Frequency Among Tracks\")\n",
    "    plt.show()\n",
    "def explicit(df):\n",
    "    plt.figure(figsize=(7, 5), dpi=80)\n",
    "\n",
    "    explicit = df[df[\"track, explicit\"] == True][\"track, popularity\"]\n",
    "\n",
    "    sns.distplot(explicit, label=\"Explicit\",\n",
    "                hist=False)\n",
    "    plt.axvline(np.mean(explicit),\n",
    "                linestyle='solid',\n",
    "                linewidth=1,\n",
    "                color=\"blue\",\n",
    "                label=\"Explicit Mean\")\n",
    "\n",
    "    not_explicit = df[df[\"track, explicit\"] == False][\"track, popularity\"]\n",
    "    sns.distplot(not_explicit, label=\"Not Explicit\",\n",
    "                hist=False)\n",
    "    plt.axvline(np.mean(not_explicit),\n",
    "                linestyle='solid',\n",
    "                linewidth=1,\n",
    "                color=\"Red\",\n",
    "                label=\"Non-Explicit Mean\")\n",
    "\n",
    "    plt.title(\"Track Popularity Distribution on Explicit-ness\")\n",
    "    plt.xlabel(\"Track Popularity\")\n",
    "    plt.ylabel(\"Frequency\")\n",
    "    plt.legend()\n",
    "    plt.show();"
   ]
  },
  {
   "cell_type": "code",
   "execution_count": 33,
   "metadata": {},
   "outputs": [],
   "source": [
    "#sns.displot(df, x=\"track, popularity\", hue=\"album, len artists\")"
   ]
  },
  {
   "cell_type": "markdown",
   "metadata": {},
   "source": [
    "### Main\n",
    "9. Create `playlist_category_id`, a DICTIONARY that connects playlist names with their corresponding id\n",
    "10. Create `playlist_main` to process the data. It returns a dictionary of relevant details (category, playlist url, playlist name, and number of followers) AND a dataframe with relevant details, post-process.\n",
    "11. Create `playlist_visual` to visualize the data. It takes as an input the dataframe returned by `playlist_main`\n",
    "12. Create `main`, which calls `playlist_main` and `playlist_visual`. It returns the dataframe returned by `playlist_main`. NOTE: the token it takes as a input shold be refreshed each time to guarantee it does not time out."
   ]
  },
  {
   "cell_type": "code",
   "execution_count": 34,
   "metadata": {},
   "outputs": [],
   "source": [
    "playlist_category_id = {\n",
    "    \"viral_50_global\": \"37i9dQZEVXbLiRSasKsNU9\",\n",
    "    \"top_50_global\": \"37i9dQZEVXbMDoHDwVN2tF\",\n",
    "\n",
    "    \"viral_50_usa\": \"37i9dQZEVXbKuaTI1Z1Afx\",\n",
    "    \"top_50_usa\": \"37i9dQZEVXbLRQDuF5jeBp\",\n",
    "\n",
    "    \"top_50_vietnam\": \"37i9dQZEVXbLdGSmz6xilI\",\n",
    "\n",
    "    \"top_50_japan\": \"37i9dQZEVXbKXQ4mDTEBXq\",\n",
    "\n",
    "    \"top_50_argentina\": \"37i9dQZEVXbMMy2roB9myp\",\n",
    "\n",
    "    \"top_50_indonesia\": \"37i9dQZEVXbObFQZ3JLcXt\",\n",
    "\n",
    "    \"top_50_india\": \"37i9dQZEVXbLZ52XmnySJg\",\n",
    "\n",
    "    \"top_50_uk\": \"37i9dQZEVXbLnolsZ8PSNw\",  #(has 2004)\n",
    "    \"top_50_spain\": \"37i9dQZEVXbNFJfN1Vw8d9\",\n",
    "    #\"top_50_australia\": \"37i9dQZEVXbJPcfkRz0wJ0\", #(has 2004)\n",
    "    \"top_50_turkey\": \"37i9dQZEVXbIVYVBNw9D5K\",\n",
    "    \"top_50_france\": \"37i9dQZEVXbIPWwFssbupI\",\n",
    "    \"top_50_taiwan\": \"37i9dQZEVXbMnZEatlMSiu\",\n",
    "    \"top_50_brazil\": \"37i9dQZEVXbMMy2roB9myp\",\n",
    "    \"top_50_germany\": \"37i9dQZEVXbMMy2roB9myp\",\n",
    "    \"top_50_turkey\": \"37i9dQZEVXbIVYVBNw9D5K\",\n",
    "    #\"top_50_australia\": \"37i9dQZEVXbJPcfkRz0wJ0\", #(has 2004)\n",
    "    \"top_50_sweden\": \"37i9dQZEVXbLoATJ81JYXz\",\n",
    "    \"top_50_netherlands\": \"37i9dQZEVXbKCF6dqVpDkS\",\n",
    "    \"top_50_turkey\": \"37i9dQZEVXbIVYVBNw9D5K\"\n",
    "\n",
    "    #\"top_50_mexico\": \"37i9dQZEVXbO3qyFxbkOE1\", #has a weird 1993 year\n",
    "    #\"50s_party\": \"37i9dQZF1DWSwFS0Z6E1ep\" #has YEAR-MO\n",
    "}\n",
    "\n",
    "def playlist_main(token, category=\"50_global_top\"):\n",
    "    #determine id that corresponds to category\n",
    "    \n",
    "    print(\"The following visualizations will be about \" + category + \".\")\n",
    "    id_ = playlist_category_id.get(category, \"ERROR\")\n",
    "    \n",
    "    #create token   \n",
    "    resp = requests.get(\n",
    "        url = 'https://api.spotify.com/v1/playlists/' + id_,\n",
    "        headers = {\n",
    "            'Authorization': 'Bearer '+ token\n",
    "        }\n",
    "    )\n",
    "    r = resp.json()\n",
    "    \n",
    "    tracks = r.get('tracks').get(\"items\")\n",
    "        \n",
    "    #create dataframes\n",
    "    df = pd.DataFrame()\n",
    "    df = df_album(df, tracks)\n",
    "    df = df_tracks(df, tracks)\n",
    "    \n",
    "    #date post-processing\n",
    "    #display(df)\n",
    "    df = date_process(df)\n",
    "    df = date_today_diff(df)\n",
    "    \n",
    "    playlist_dict = {\n",
    "        \"category\": category,\n",
    "        \"url\": r.get(\"external_urls\").get(\"spotify\"),\n",
    "        \"name\": r.get(\"name\"),\n",
    "        \"followers\": r.get(\"followers\").get(\"total\")\n",
    "    }\n",
    "    \n",
    "    return playlist_dict, df\n",
    "\n",
    "def playlist_visual(df):\n",
    "    hist(df)\n",
    "    #cat(df)\n",
    "    dist(df)\n",
    "    explicit(df)\n",
    "    reg(df)\n",
    "    pie(df)"
   ]
  },
  {
   "cell_type": "code",
   "execution_count": 35,
   "metadata": {},
   "outputs": [],
   "source": [
    "def main(token, category, return_df = False):\n",
    "    playlist_dict, df_50 = playlist_main(token, category)\n",
    "    playlist_visual(df_50)\n",
    "    if return_df:\n",
    "        return df_50"
   ]
  },
  {
   "cell_type": "code",
   "execution_count": 36,
   "metadata": {
    "scrolled": false
   },
   "outputs": [],
   "source": [
    "#CATEGORY = \"top_50_turkey\"\n",
    "#df = main(TOKEN, CATEGORY, False)"
   ]
  },
  {
   "cell_type": "markdown",
   "metadata": {
    "scrolled": true
   },
   "source": [
    "playlist_dict"
   ]
  },
  {
   "cell_type": "markdown",
   "metadata": {},
   "source": [
    "\n",
    "category = \"viral_50_global\"\n",
    "token=TOKEN\n",
    "playlist_category_id = {\n",
    "    \"viral_50_global\": \"37i9dQZEVXbLiRSasKsNU9\",\n",
    "    \"top_50_global\": \"37i9dQZEVXbMDoHDwVN2tF\",\n",
    "\n",
    "    \"viral_50_usa\": \"37i9dQZEVXbKuaTI1Z1Afx\",\n",
    "    \"top_50_usa\": \"37i9dQZEVXbLRQDuF5jeBp\",\n",
    "\n",
    "    \"top_50_vietnam\": \"37i9dQZEVXbLdGSmz6xilI\",\n",
    "\n",
    "    \"top_50_japan\": \"37i9dQZEVXbKXQ4mDTEBXq\",\n",
    "\n",
    "    \"top_50_argentina\": \"37i9dQZEVXbMMy2roB9myp\",\n",
    "\n",
    "    \"top_50_indonesia\": \"37i9dQZEVXbObFQZ3JLcXt\",\n",
    "\n",
    "    \"top_50_india\": \"37i9dQZEVXbLZ52XmnySJg\"\n",
    "\n",
    "    #\"top_50_mexico\": \"37i9dQZEVXbO3qyFxbkOE1\", #has a weird 1993 year\n",
    "    #\"50s_party\": \"37i9dQZF1DWSwFS0Z6E1ep\" #has YEAR-MO\n",
    "}\n",
    "print(category)\n",
    "id_ = playlist_category_id.get(category, \"ERROR\")\n",
    "\n",
    "#create token   \n",
    "resp = requests.get(\n",
    "    url = 'https://api.spotify.com/v1/playlists/' + id_,\n",
    "    headers = {\n",
    "        'Authorization': 'Bearer '+ token\n",
    "    }\n",
    ")\n",
    "r = resp.json()\n",
    "\n",
    "tracks = r.get('tracks').get(\"items\")"
   ]
  },
  {
   "cell_type": "markdown",
   "metadata": {},
   "source": [
    "tracks[0].get(\"track\").get(\"explicit\")"
   ]
  },
  {
   "cell_type": "code",
   "execution_count": 37,
   "metadata": {
    "scrolled": false
   },
   "outputs": [
    {
     "data": {
      "application/vnd.jupyter.widget-view+json": {
       "model_id": "f030e6cfbf8748c09a409451db643ff6",
       "version_major": 2,
       "version_minor": 0
      },
      "text/plain": [
       "Dropdown(options=('top_50_argentina', 'top_50_brazil', 'top_50_france', 'top_50_germany', 'top_50_global', 'to…"
      ]
     },
     "metadata": {},
     "output_type": "display_data"
    },
    {
     "data": {
      "application/vnd.jupyter.widget-view+json": {
       "model_id": "e1b3ad3428774721a796d694efb87ab3",
       "version_major": 2,
       "version_minor": 0
      },
      "text/plain": [
       "Output()"
      ]
     },
     "metadata": {},
     "output_type": "display_data"
    }
   ],
   "source": [
    "# SOURCE: https://towardsdatascience.com/bring-your-jupyter-notebook-to-life-with-interactive-widgets-bc12e03f0916\n",
    "\n",
    "def unique_sort_list(array):\n",
    "    unique = array.unique().tolist()\n",
    "    unique.sort()\n",
    "    return unique\n",
    "\n",
    "dropdown = widgets.Dropdown(options = unique_sort_list(pd.Series(list(playlist_category_id.keys()))))\n",
    "\n",
    "def dropdown_event(change):   \n",
    "    output.clear_output()\n",
    "    with output:\n",
    "        main(TOKEN, change.new, False)\n",
    "\n",
    "dropdown.observe(dropdown_event, names='value')\n",
    "\n",
    "output = widgets.Output()\n",
    "\n",
    "display(dropdown)\n",
    "display(output)"
   ]
  },
  {
   "cell_type": "markdown",
   "metadata": {},
   "source": [
    "TOKEN = 'BQDrbDT4kLhwctaiXijkqtYSh0-3T6MD03xre8sRq2EEzk-QipMkF0AefTKzt6fuQlIzharfpiY-SYa2bm77zcLYc4dUX2uL1h6VkCgaWScVokeAwe3exXp5hKm6iCEReUlz7sShaX7Rj0JYfHYLfaGlfBW4mItlVegJ90wx'\n",
    "df_50 = playlist_main(token = TOKEN, category=\"top\")\n",
    "playlist_visual(df_50)"
   ]
  },
  {
   "cell_type": "markdown",
   "metadata": {},
   "source": [
    "TOKEN = 'BQBR0Uls74aPKmCyi8ww5jyRiVVDnR3mNrYrzI-MLMDsgqDzOPUrE6IupyXKUZM7Ni7qkm7b5w0T-jOfApmEBYKY0aK3JvZCcCneZ0ZoVOi15ZEBJgMOPDX8-qd5YFxgwkonWgCf6-ycOdTgVrEP3ELzXtMvez4KIYG49vnt'\n",
    "BASE_URL = 'https://api.spotify.com/v1/'\n",
    "headers = {\n",
    "    'Authorization': 'Bearer '+ TOKEN\n",
    "}\n",
    "\n",
    "console = 'artists'\n",
    "_id = '2CIMQHirSU0MQqyYHq0eOx%2C57dN52uHvrHOxijzpIgu3E%2C1vCWHaC5f2uS3yhpwWbIA6'\n",
    "\n",
    "\n",
    "\n",
    "resp = requests.get(\n",
    "    url = 'https://api.spotify.com/v1/playlists/37i9dQZEVXbLiRSasKsNU9',#viral 50\n",
    "    #url = 'https://api.spotify.com/v1/playlists/37i9dQZEVXbMDoHDwVN2tF',#top 50\n",
    "    headers = headers\n",
    ")\n",
    "r = resp.json()\n",
    "top_tracks = r.get('tracks').get(\"items\")"
   ]
  },
  {
   "cell_type": "markdown",
   "metadata": {},
   "source": [
    "url = r.get(\"external_urls\").get(\"spotify\")\n",
    "name = r.get(\"name\")\n",
    "followers = r.get(\"followers\").get(\"total\")\n",
    "\n",
    "\n",
    "url, name, followers"
   ]
  },
  {
   "cell_type": "markdown",
   "metadata": {},
   "source": [
    "https://open.spotify.com/playlist/37i9dQZEVXbLiRSasKsNU9"
   ]
  },
  {
   "cell_type": "markdown",
   "metadata": {},
   "source": [
    "https://developer.spotify.com/console/get-playlist/?playlist_id=37i9dQZEVXbLiRSasKsNU9&market=&fields=&additional_types="
   ]
  },
  {
   "cell_type": "markdown",
   "metadata": {},
   "source": [
    "For all the playlists:\n",
    "\n",
    "https://open.spotify.com/search/top%2050/playlists"
   ]
  },
  {
   "cell_type": "code",
   "execution_count": null,
   "metadata": {},
   "outputs": [],
   "source": []
  }
 ],
 "metadata": {
  "kernelspec": {
   "display_name": "Python 3",
   "language": "python",
   "name": "python3"
  },
  "language_info": {
   "codemirror_mode": {
    "name": "ipython",
    "version": 3
   },
   "file_extension": ".py",
   "mimetype": "text/x-python",
   "name": "python",
   "nbconvert_exporter": "python",
   "pygments_lexer": "ipython3",
   "version": "3.7.3"
  }
 },
 "nbformat": 4,
 "nbformat_minor": 2
}
